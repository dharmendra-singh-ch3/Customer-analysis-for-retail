{
 "cells": [
  {
   "cell_type": "code",
   "execution_count": 1,
   "id": "bd63181e",
   "metadata": {},
   "outputs": [
    {
     "name": "stdout",
     "output_type": "stream",
     "text": [
      "Requirement already satisfied: pandas in c:\\programdata\\anaconda3\\lib\\site-packages (1.3.4)\n",
      "Requirement already satisfied: pytz>=2017.3 in c:\\programdata\\anaconda3\\lib\\site-packages (from pandas) (2021.3)\n",
      "Requirement already satisfied: python-dateutil>=2.7.3 in c:\\programdata\\anaconda3\\lib\\site-packages (from pandas) (2.8.2)\n",
      "Requirement already satisfied: numpy>=1.17.3 in c:\\programdata\\anaconda3\\lib\\site-packages (from pandas) (1.20.3)\n",
      "Requirement already satisfied: six>=1.5 in c:\\programdata\\anaconda3\\lib\\site-packages (from python-dateutil>=2.7.3->pandas) (1.16.0)\n",
      "Note: you may need to restart the kernel to use updated packages.\n"
     ]
    },
    {
     "name": "stderr",
     "output_type": "stream",
     "text": [
      "WARNING: Ignoring invalid distribution -rkupsafe (c:\\programdata\\anaconda3\\lib\\site-packages)\n",
      "WARNING: Ignoring invalid distribution -rkupsafe (c:\\programdata\\anaconda3\\lib\\site-packages)\n",
      "WARNING: Ignoring invalid distribution - (c:\\programdata\\anaconda3\\lib\\site-packages)\n",
      "WARNING: Ignoring invalid distribution -arkupsafe (c:\\programdata\\anaconda3\\lib\\site-packages)\n",
      "WARNING: Ignoring invalid distribution -rkupsafe (c:\\programdata\\anaconda3\\lib\\site-packages)\n",
      "WARNING: Ignoring invalid distribution -rkupsafe (c:\\programdata\\anaconda3\\lib\\site-packages)\n",
      "WARNING: Ignoring invalid distribution - (c:\\programdata\\anaconda3\\lib\\site-packages)\n",
      "WARNING: Ignoring invalid distribution -arkupsafe (c:\\programdata\\anaconda3\\lib\\site-packages)\n",
      "WARNING: Ignoring invalid distribution -rkupsafe (c:\\programdata\\anaconda3\\lib\\site-packages)\n",
      "WARNING: Ignoring invalid distribution -rkupsafe (c:\\programdata\\anaconda3\\lib\\site-packages)\n",
      "WARNING: Ignoring invalid distribution - (c:\\programdata\\anaconda3\\lib\\site-packages)\n",
      "WARNING: Ignoring invalid distribution -arkupsafe (c:\\programdata\\anaconda3\\lib\\site-packages)\n",
      "WARNING: Ignoring invalid distribution -rkupsafe (c:\\programdata\\anaconda3\\lib\\site-packages)\n",
      "WARNING: Ignoring invalid distribution -rkupsafe (c:\\programdata\\anaconda3\\lib\\site-packages)\n",
      "WARNING: Ignoring invalid distribution - (c:\\programdata\\anaconda3\\lib\\site-packages)\n",
      "WARNING: Ignoring invalid distribution -arkupsafe (c:\\programdata\\anaconda3\\lib\\site-packages)\n",
      "WARNING: Ignoring invalid distribution -rkupsafe (c:\\programdata\\anaconda3\\lib\\site-packages)\n",
      "WARNING: Ignoring invalid distribution -rkupsafe (c:\\programdata\\anaconda3\\lib\\site-packages)\n",
      "WARNING: Ignoring invalid distribution - (c:\\programdata\\anaconda3\\lib\\site-packages)\n",
      "WARNING: Ignoring invalid distribution -arkupsafe (c:\\programdata\\anaconda3\\lib\\site-packages)\n",
      "WARNING: Ignoring invalid distribution -rkupsafe (c:\\programdata\\anaconda3\\lib\\site-packages)\n",
      "WARNING: Ignoring invalid distribution -rkupsafe (c:\\programdata\\anaconda3\\lib\\site-packages)\n",
      "WARNING: Ignoring invalid distribution - (c:\\programdata\\anaconda3\\lib\\site-packages)\n",
      "WARNING: Ignoring invalid distribution -arkupsafe (c:\\programdata\\anaconda3\\lib\\site-packages)\n"
     ]
    }
   ],
   "source": [
    "pip install pandas"
   ]
  },
  {
   "cell_type": "code",
   "execution_count": 2,
   "id": "80976037",
   "metadata": {},
   "outputs": [
    {
     "name": "stdout",
     "output_type": "stream",
     "text": [
      "Requirement already satisfied: xlrd in c:\\programdata\\anaconda3\\lib\\site-packages (2.0.1)\n",
      "Note: you may need to restart the kernel to use updated packages.\n"
     ]
    }
   ],
   "source": [
    "pip install xlrd"
   ]
  },
  {
   "cell_type": "code",
   "execution_count": 3,
   "id": "610577b0",
   "metadata": {},
   "outputs": [
    {
     "name": "stdout",
     "output_type": "stream",
     "text": [
      "Requirement already satisfied: matplotlib in c:\\programdata\\anaconda3\\lib\\site-packages (3.4.3)\n",
      "Requirement already satisfied: pyparsing>=2.2.1 in c:\\programdata\\anaconda3\\lib\\site-packages (from matplotlib) (3.0.4)\n",
      "Requirement already satisfied: numpy>=1.16 in c:\\programdata\\anaconda3\\lib\\site-packages (from matplotlib) (1.20.3)\n",
      "Requirement already satisfied: kiwisolver>=1.0.1 in c:\\programdata\\anaconda3\\lib\\site-packages (from matplotlib) (1.3.1)\n",
      "Requirement already satisfied: cycler>=0.10 in c:\\programdata\\anaconda3\\lib\\site-packages (from matplotlib) (0.10.0)\n",
      "Requirement already satisfied: python-dateutil>=2.7 in c:\\programdata\\anaconda3\\lib\\site-packages (from matplotlib) (2.8.2)\n",
      "Requirement already satisfied: pillow>=6.2.0 in c:\\programdata\\anaconda3\\lib\\site-packages (from matplotlib) (8.4.0)\n",
      "Requirement already satisfied: six in c:\\programdata\\anaconda3\\lib\\site-packages (from cycler>=0.10->matplotlib) (1.16.0)\n",
      "Note: you may need to restart the kernel to use updated packages.\n"
     ]
    }
   ],
   "source": [
    "pip install matplotlib"
   ]
  },
  {
   "cell_type": "markdown",
   "id": "fa2eb7a0",
   "metadata": {},
   "source": [
    "1. Merge the datasets Customers, Product Hierarchy and Transactions as Customer_Final. Ensure to keep all customers who have done transactions with us and select the join type accordingly.\n"
   ]
  },
  {
   "cell_type": "code",
   "execution_count": 5,
   "id": "bb16e5c2",
   "metadata": {},
   "outputs": [],
   "source": [
    "import pandas as pd"
   ]
  },
  {
   "cell_type": "code",
   "execution_count": 6,
   "id": "82bf6fa4",
   "metadata": {},
   "outputs": [],
   "source": [
    "import numpy as np"
   ]
  },
  {
   "cell_type": "code",
   "execution_count": 7,
   "id": "30593b1e",
   "metadata": {},
   "outputs": [],
   "source": [
    "from matplotlib import pyplot as plt"
   ]
  },
  {
   "cell_type": "code",
   "execution_count": 16,
   "id": "cffc7e4a",
   "metadata": {},
   "outputs": [],
   "source": [
    "customer = pd.read_csv(\"C:/Users/dharmendra.sing1/Customer.csv\")"
   ]
  },
  {
   "cell_type": "code",
   "execution_count": 18,
   "id": "b98ecba7",
   "metadata": {},
   "outputs": [],
   "source": [
    "prod_cat = pd.read_csv(\"C:/Users/dharmendra.sing1/prod_cat_info.csv\")"
   ]
  },
  {
   "cell_type": "code",
   "execution_count": 19,
   "id": "6609389f",
   "metadata": {},
   "outputs": [],
   "source": [
    "transactions = pd.read_csv(\"C:/Users/dharmendra.sing1/Transactions.csv\")"
   ]
  },
  {
   "cell_type": "markdown",
   "id": "6b688493",
   "metadata": {},
   "source": [
    "# 1. Merge the datasets Customers, Product Hierarchy and Transactions as Customer_Final. Ensure to\n",
    "keep all customers who have done transactions with us and select the join type accordingly.\n"
   ]
  },
  {
   "cell_type": "code",
   "execution_count": 20,
   "id": "f2b1487b",
   "metadata": {},
   "outputs": [],
   "source": [
    "Customer_Final= pd.merge(transactions,prod_cat,\n",
    "             left_on=['prod_cat_code','prod_subcat_code'],right_on=['prod_cat_code','prod_sub_cat_code'],\n",
    "             how='left').merge(customer,left_on='cust_id',right_on='customer_Id',how='inner' )"
   ]
  },
  {
   "cell_type": "markdown",
   "id": "e9e3fee7",
   "metadata": {},
   "source": [
    "# 2.a. Get the column names and their corresponding data types\n"
   ]
  },
  {
   "cell_type": "code",
   "execution_count": 21,
   "id": "6f406795",
   "metadata": {
    "scrolled": true
   },
   "outputs": [
    {
     "name": "stdout",
     "output_type": "stream",
     "text": [
      "transaction_id         int64\n",
      "cust_id                int64\n",
      "tran_date             object\n",
      "prod_subcat_code       int64\n",
      "prod_cat_code          int64\n",
      "Qty                    int64\n",
      "Rate                   int64\n",
      "Tax                  float64\n",
      "total_amt            float64\n",
      "Store_type            object\n",
      "prod_cat              object\n",
      "prod_sub_cat_code      int64\n",
      "prod_subcat           object\n",
      "customer_Id            int64\n",
      "DOB                   object\n",
      "Gender                object\n",
      "city_code            float64\n",
      "dtype: object\n"
     ]
    }
   ],
   "source": [
    "print(Customer_Final.dtypes)"
   ]
  },
  {
   "cell_type": "markdown",
   "id": "11eb798e",
   "metadata": {},
   "source": [
    " 2.b. Top/Bottom 10 observations"
   ]
  },
  {
   "cell_type": "code",
   "execution_count": 22,
   "id": "b4d53168",
   "metadata": {
    "scrolled": true
   },
   "outputs": [
    {
     "data": {
      "text/html": [
       "<div>\n",
       "<style scoped>\n",
       "    .dataframe tbody tr th:only-of-type {\n",
       "        vertical-align: middle;\n",
       "    }\n",
       "\n",
       "    .dataframe tbody tr th {\n",
       "        vertical-align: top;\n",
       "    }\n",
       "\n",
       "    .dataframe thead th {\n",
       "        text-align: right;\n",
       "    }\n",
       "</style>\n",
       "<table border=\"1\" class=\"dataframe\">\n",
       "  <thead>\n",
       "    <tr style=\"text-align: right;\">\n",
       "      <th></th>\n",
       "      <th>transaction_id</th>\n",
       "      <th>cust_id</th>\n",
       "      <th>tran_date</th>\n",
       "      <th>prod_subcat_code</th>\n",
       "      <th>prod_cat_code</th>\n",
       "      <th>Qty</th>\n",
       "      <th>Rate</th>\n",
       "      <th>Tax</th>\n",
       "      <th>total_amt</th>\n",
       "      <th>Store_type</th>\n",
       "      <th>prod_cat</th>\n",
       "      <th>prod_sub_cat_code</th>\n",
       "      <th>prod_subcat</th>\n",
       "      <th>customer_Id</th>\n",
       "      <th>DOB</th>\n",
       "      <th>Gender</th>\n",
       "      <th>city_code</th>\n",
       "    </tr>\n",
       "  </thead>\n",
       "  <tbody>\n",
       "    <tr>\n",
       "      <th>0</th>\n",
       "      <td>80712190438</td>\n",
       "      <td>270351</td>\n",
       "      <td>28-02-2014</td>\n",
       "      <td>1</td>\n",
       "      <td>1</td>\n",
       "      <td>-5</td>\n",
       "      <td>-772</td>\n",
       "      <td>405.300</td>\n",
       "      <td>-4265.300</td>\n",
       "      <td>e-Shop</td>\n",
       "      <td>Clothing</td>\n",
       "      <td>1</td>\n",
       "      <td>Women</td>\n",
       "      <td>270351</td>\n",
       "      <td>26-09-1981</td>\n",
       "      <td>M</td>\n",
       "      <td>5.0</td>\n",
       "    </tr>\n",
       "    <tr>\n",
       "      <th>1</th>\n",
       "      <td>80712190438</td>\n",
       "      <td>270351</td>\n",
       "      <td>20-02-2014</td>\n",
       "      <td>1</td>\n",
       "      <td>1</td>\n",
       "      <td>5</td>\n",
       "      <td>772</td>\n",
       "      <td>405.300</td>\n",
       "      <td>4265.300</td>\n",
       "      <td>e-Shop</td>\n",
       "      <td>Clothing</td>\n",
       "      <td>1</td>\n",
       "      <td>Women</td>\n",
       "      <td>270351</td>\n",
       "      <td>26-09-1981</td>\n",
       "      <td>M</td>\n",
       "      <td>5.0</td>\n",
       "    </tr>\n",
       "    <tr>\n",
       "      <th>2</th>\n",
       "      <td>36957441426</td>\n",
       "      <td>270351</td>\n",
       "      <td>16-09-2013</td>\n",
       "      <td>3</td>\n",
       "      <td>2</td>\n",
       "      <td>3</td>\n",
       "      <td>361</td>\n",
       "      <td>113.715</td>\n",
       "      <td>1196.715</td>\n",
       "      <td>Flagship store</td>\n",
       "      <td>Footwear</td>\n",
       "      <td>3</td>\n",
       "      <td>Women</td>\n",
       "      <td>270351</td>\n",
       "      <td>26-09-1981</td>\n",
       "      <td>M</td>\n",
       "      <td>5.0</td>\n",
       "    </tr>\n",
       "    <tr>\n",
       "      <th>3</th>\n",
       "      <td>12236277258</td>\n",
       "      <td>270351</td>\n",
       "      <td>18-03-2013</td>\n",
       "      <td>8</td>\n",
       "      <td>3</td>\n",
       "      <td>3</td>\n",
       "      <td>1030</td>\n",
       "      <td>324.450</td>\n",
       "      <td>3414.450</td>\n",
       "      <td>e-Shop</td>\n",
       "      <td>Electronics</td>\n",
       "      <td>8</td>\n",
       "      <td>Personal Appliances</td>\n",
       "      <td>270351</td>\n",
       "      <td>26-09-1981</td>\n",
       "      <td>M</td>\n",
       "      <td>5.0</td>\n",
       "    </tr>\n",
       "    <tr>\n",
       "      <th>4</th>\n",
       "      <td>13181563739</td>\n",
       "      <td>270351</td>\n",
       "      <td>13-12-2011</td>\n",
       "      <td>6</td>\n",
       "      <td>5</td>\n",
       "      <td>1</td>\n",
       "      <td>1048</td>\n",
       "      <td>110.040</td>\n",
       "      <td>1158.040</td>\n",
       "      <td>e-Shop</td>\n",
       "      <td>Books</td>\n",
       "      <td>6</td>\n",
       "      <td>DIY</td>\n",
       "      <td>270351</td>\n",
       "      <td>26-09-1981</td>\n",
       "      <td>M</td>\n",
       "      <td>5.0</td>\n",
       "    </tr>\n",
       "    <tr>\n",
       "      <th>5</th>\n",
       "      <td>29258453508</td>\n",
       "      <td>270384</td>\n",
       "      <td>27-02-2014</td>\n",
       "      <td>5</td>\n",
       "      <td>3</td>\n",
       "      <td>-5</td>\n",
       "      <td>-1497</td>\n",
       "      <td>785.925</td>\n",
       "      <td>-8270.925</td>\n",
       "      <td>e-Shop</td>\n",
       "      <td>Electronics</td>\n",
       "      <td>5</td>\n",
       "      <td>Computers</td>\n",
       "      <td>270384</td>\n",
       "      <td>11-05-1973</td>\n",
       "      <td>F</td>\n",
       "      <td>8.0</td>\n",
       "    </tr>\n",
       "    <tr>\n",
       "      <th>6</th>\n",
       "      <td>29258453508</td>\n",
       "      <td>270384</td>\n",
       "      <td>20-02-2014</td>\n",
       "      <td>5</td>\n",
       "      <td>3</td>\n",
       "      <td>5</td>\n",
       "      <td>1497</td>\n",
       "      <td>785.925</td>\n",
       "      <td>8270.925</td>\n",
       "      <td>e-Shop</td>\n",
       "      <td>Electronics</td>\n",
       "      <td>5</td>\n",
       "      <td>Computers</td>\n",
       "      <td>270384</td>\n",
       "      <td>11-05-1973</td>\n",
       "      <td>F</td>\n",
       "      <td>8.0</td>\n",
       "    </tr>\n",
       "    <tr>\n",
       "      <th>7</th>\n",
       "      <td>92734514344</td>\n",
       "      <td>270384</td>\n",
       "      <td>26-10-2013</td>\n",
       "      <td>1</td>\n",
       "      <td>4</td>\n",
       "      <td>2</td>\n",
       "      <td>1362</td>\n",
       "      <td>286.020</td>\n",
       "      <td>3010.020</td>\n",
       "      <td>TeleShop</td>\n",
       "      <td>Bags</td>\n",
       "      <td>1</td>\n",
       "      <td>Mens</td>\n",
       "      <td>270384</td>\n",
       "      <td>11-05-1973</td>\n",
       "      <td>F</td>\n",
       "      <td>8.0</td>\n",
       "    </tr>\n",
       "    <tr>\n",
       "      <th>8</th>\n",
       "      <td>865952996</td>\n",
       "      <td>270384</td>\n",
       "      <td>6/8/2013</td>\n",
       "      <td>12</td>\n",
       "      <td>6</td>\n",
       "      <td>2</td>\n",
       "      <td>86</td>\n",
       "      <td>18.060</td>\n",
       "      <td>190.060</td>\n",
       "      <td>MBR</td>\n",
       "      <td>Home and kitchen</td>\n",
       "      <td>12</td>\n",
       "      <td>Tools</td>\n",
       "      <td>270384</td>\n",
       "      <td>11-05-1973</td>\n",
       "      <td>F</td>\n",
       "      <td>8.0</td>\n",
       "    </tr>\n",
       "    <tr>\n",
       "      <th>9</th>\n",
       "      <td>4116651679</td>\n",
       "      <td>270384</td>\n",
       "      <td>6/8/2013</td>\n",
       "      <td>6</td>\n",
       "      <td>5</td>\n",
       "      <td>1</td>\n",
       "      <td>1343</td>\n",
       "      <td>141.015</td>\n",
       "      <td>1484.015</td>\n",
       "      <td>TeleShop</td>\n",
       "      <td>Books</td>\n",
       "      <td>6</td>\n",
       "      <td>DIY</td>\n",
       "      <td>270384</td>\n",
       "      <td>11-05-1973</td>\n",
       "      <td>F</td>\n",
       "      <td>8.0</td>\n",
       "    </tr>\n",
       "  </tbody>\n",
       "</table>\n",
       "</div>"
      ],
      "text/plain": [
       "   transaction_id  cust_id   tran_date  prod_subcat_code  prod_cat_code  Qty  \\\n",
       "0     80712190438   270351  28-02-2014                 1              1   -5   \n",
       "1     80712190438   270351  20-02-2014                 1              1    5   \n",
       "2     36957441426   270351  16-09-2013                 3              2    3   \n",
       "3     12236277258   270351  18-03-2013                 8              3    3   \n",
       "4     13181563739   270351  13-12-2011                 6              5    1   \n",
       "5     29258453508   270384  27-02-2014                 5              3   -5   \n",
       "6     29258453508   270384  20-02-2014                 5              3    5   \n",
       "7     92734514344   270384  26-10-2013                 1              4    2   \n",
       "8       865952996   270384    6/8/2013                12              6    2   \n",
       "9      4116651679   270384    6/8/2013                 6              5    1   \n",
       "\n",
       "   Rate      Tax  total_amt      Store_type          prod_cat  \\\n",
       "0  -772  405.300  -4265.300          e-Shop          Clothing   \n",
       "1   772  405.300   4265.300          e-Shop          Clothing   \n",
       "2   361  113.715   1196.715  Flagship store          Footwear   \n",
       "3  1030  324.450   3414.450          e-Shop       Electronics   \n",
       "4  1048  110.040   1158.040          e-Shop             Books   \n",
       "5 -1497  785.925  -8270.925          e-Shop       Electronics   \n",
       "6  1497  785.925   8270.925          e-Shop       Electronics   \n",
       "7  1362  286.020   3010.020        TeleShop              Bags   \n",
       "8    86   18.060    190.060             MBR  Home and kitchen   \n",
       "9  1343  141.015   1484.015        TeleShop             Books   \n",
       "\n",
       "   prod_sub_cat_code          prod_subcat  customer_Id         DOB Gender  \\\n",
       "0                  1                Women       270351  26-09-1981      M   \n",
       "1                  1                Women       270351  26-09-1981      M   \n",
       "2                  3                Women       270351  26-09-1981      M   \n",
       "3                  8  Personal Appliances       270351  26-09-1981      M   \n",
       "4                  6                  DIY       270351  26-09-1981      M   \n",
       "5                  5            Computers       270384  11-05-1973      F   \n",
       "6                  5            Computers       270384  11-05-1973      F   \n",
       "7                  1                 Mens       270384  11-05-1973      F   \n",
       "8                 12                Tools       270384  11-05-1973      F   \n",
       "9                  6                  DIY       270384  11-05-1973      F   \n",
       "\n",
       "   city_code  \n",
       "0        5.0  \n",
       "1        5.0  \n",
       "2        5.0  \n",
       "3        5.0  \n",
       "4        5.0  \n",
       "5        8.0  \n",
       "6        8.0  \n",
       "7        8.0  \n",
       "8        8.0  \n",
       "9        8.0  "
      ]
     },
     "execution_count": 22,
     "metadata": {},
     "output_type": "execute_result"
    }
   ],
   "source": [
    "Customer_Final.head(10)"
   ]
  },
  {
   "cell_type": "code",
   "execution_count": 23,
   "id": "df4a3d33",
   "metadata": {
    "scrolled": false
   },
   "outputs": [
    {
     "data": {
      "text/html": [
       "<div>\n",
       "<style scoped>\n",
       "    .dataframe tbody tr th:only-of-type {\n",
       "        vertical-align: middle;\n",
       "    }\n",
       "\n",
       "    .dataframe tbody tr th {\n",
       "        vertical-align: top;\n",
       "    }\n",
       "\n",
       "    .dataframe thead th {\n",
       "        text-align: right;\n",
       "    }\n",
       "</style>\n",
       "<table border=\"1\" class=\"dataframe\">\n",
       "  <thead>\n",
       "    <tr style=\"text-align: right;\">\n",
       "      <th></th>\n",
       "      <th>transaction_id</th>\n",
       "      <th>cust_id</th>\n",
       "      <th>tran_date</th>\n",
       "      <th>prod_subcat_code</th>\n",
       "      <th>prod_cat_code</th>\n",
       "      <th>Qty</th>\n",
       "      <th>Rate</th>\n",
       "      <th>Tax</th>\n",
       "      <th>total_amt</th>\n",
       "      <th>Store_type</th>\n",
       "      <th>prod_cat</th>\n",
       "      <th>prod_sub_cat_code</th>\n",
       "      <th>prod_subcat</th>\n",
       "      <th>customer_Id</th>\n",
       "      <th>DOB</th>\n",
       "      <th>Gender</th>\n",
       "      <th>city_code</th>\n",
       "    </tr>\n",
       "  </thead>\n",
       "  <tbody>\n",
       "    <tr>\n",
       "      <th>23043</th>\n",
       "      <td>11090753771</td>\n",
       "      <td>270827</td>\n",
       "      <td>8/2/2011</td>\n",
       "      <td>1</td>\n",
       "      <td>1</td>\n",
       "      <td>3</td>\n",
       "      <td>74</td>\n",
       "      <td>23.310</td>\n",
       "      <td>245.310</td>\n",
       "      <td>e-Shop</td>\n",
       "      <td>Clothing</td>\n",
       "      <td>1</td>\n",
       "      <td>Women</td>\n",
       "      <td>270827</td>\n",
       "      <td>04-03-1970</td>\n",
       "      <td>F</td>\n",
       "      <td>10.0</td>\n",
       "    </tr>\n",
       "    <tr>\n",
       "      <th>23044</th>\n",
       "      <td>85951181720</td>\n",
       "      <td>267166</td>\n",
       "      <td>8/2/2011</td>\n",
       "      <td>5</td>\n",
       "      <td>3</td>\n",
       "      <td>3</td>\n",
       "      <td>1137</td>\n",
       "      <td>358.155</td>\n",
       "      <td>3769.155</td>\n",
       "      <td>MBR</td>\n",
       "      <td>Electronics</td>\n",
       "      <td>5</td>\n",
       "      <td>Computers</td>\n",
       "      <td>267166</td>\n",
       "      <td>22-02-1970</td>\n",
       "      <td>F</td>\n",
       "      <td>4.0</td>\n",
       "    </tr>\n",
       "    <tr>\n",
       "      <th>23045</th>\n",
       "      <td>79685748610</td>\n",
       "      <td>272539</td>\n",
       "      <td>5/2/2011</td>\n",
       "      <td>7</td>\n",
       "      <td>5</td>\n",
       "      <td>2</td>\n",
       "      <td>94</td>\n",
       "      <td>19.740</td>\n",
       "      <td>207.740</td>\n",
       "      <td>TeleShop</td>\n",
       "      <td>Books</td>\n",
       "      <td>7</td>\n",
       "      <td>Fiction</td>\n",
       "      <td>272539</td>\n",
       "      <td>23-05-1977</td>\n",
       "      <td>F</td>\n",
       "      <td>7.0</td>\n",
       "    </tr>\n",
       "    <tr>\n",
       "      <th>23046</th>\n",
       "      <td>23353379671</td>\n",
       "      <td>273036</td>\n",
       "      <td>4/2/2011</td>\n",
       "      <td>10</td>\n",
       "      <td>3</td>\n",
       "      <td>3</td>\n",
       "      <td>209</td>\n",
       "      <td>65.835</td>\n",
       "      <td>692.835</td>\n",
       "      <td>e-Shop</td>\n",
       "      <td>Electronics</td>\n",
       "      <td>10</td>\n",
       "      <td>Audio and video</td>\n",
       "      <td>273036</td>\n",
       "      <td>09-11-1971</td>\n",
       "      <td>F</td>\n",
       "      <td>2.0</td>\n",
       "    </tr>\n",
       "    <tr>\n",
       "      <th>23047</th>\n",
       "      <td>12933894691</td>\n",
       "      <td>272706</td>\n",
       "      <td>31-01-2011</td>\n",
       "      <td>1</td>\n",
       "      <td>4</td>\n",
       "      <td>5</td>\n",
       "      <td>361</td>\n",
       "      <td>189.525</td>\n",
       "      <td>1994.525</td>\n",
       "      <td>MBR</td>\n",
       "      <td>Bags</td>\n",
       "      <td>1</td>\n",
       "      <td>Mens</td>\n",
       "      <td>272706</td>\n",
       "      <td>09-03-1974</td>\n",
       "      <td>M</td>\n",
       "      <td>8.0</td>\n",
       "    </tr>\n",
       "    <tr>\n",
       "      <th>23048</th>\n",
       "      <td>16293185603</td>\n",
       "      <td>274931</td>\n",
       "      <td>31-01-2011</td>\n",
       "      <td>8</td>\n",
       "      <td>3</td>\n",
       "      <td>3</td>\n",
       "      <td>137</td>\n",
       "      <td>43.155</td>\n",
       "      <td>454.155</td>\n",
       "      <td>Flagship store</td>\n",
       "      <td>Electronics</td>\n",
       "      <td>8</td>\n",
       "      <td>Personal Appliances</td>\n",
       "      <td>274931</td>\n",
       "      <td>10-06-1972</td>\n",
       "      <td>M</td>\n",
       "      <td>10.0</td>\n",
       "    </tr>\n",
       "    <tr>\n",
       "      <th>23049</th>\n",
       "      <td>70163958026</td>\n",
       "      <td>267902</td>\n",
       "      <td>30-01-2011</td>\n",
       "      <td>10</td>\n",
       "      <td>5</td>\n",
       "      <td>4</td>\n",
       "      <td>404</td>\n",
       "      <td>169.680</td>\n",
       "      <td>1785.680</td>\n",
       "      <td>e-Shop</td>\n",
       "      <td>Books</td>\n",
       "      <td>10</td>\n",
       "      <td>Non-Fiction</td>\n",
       "      <td>267902</td>\n",
       "      <td>17-07-1975</td>\n",
       "      <td>M</td>\n",
       "      <td>4.0</td>\n",
       "    </tr>\n",
       "    <tr>\n",
       "      <th>23050</th>\n",
       "      <td>20417144530</td>\n",
       "      <td>269556</td>\n",
       "      <td>29-01-2011</td>\n",
       "      <td>10</td>\n",
       "      <td>6</td>\n",
       "      <td>3</td>\n",
       "      <td>654</td>\n",
       "      <td>206.010</td>\n",
       "      <td>2168.010</td>\n",
       "      <td>Flagship store</td>\n",
       "      <td>Home and kitchen</td>\n",
       "      <td>10</td>\n",
       "      <td>Kitchen</td>\n",
       "      <td>269556</td>\n",
       "      <td>27-12-1972</td>\n",
       "      <td>M</td>\n",
       "      <td>5.0</td>\n",
       "    </tr>\n",
       "    <tr>\n",
       "      <th>23051</th>\n",
       "      <td>58531412371</td>\n",
       "      <td>274935</td>\n",
       "      <td>29-01-2011</td>\n",
       "      <td>10</td>\n",
       "      <td>5</td>\n",
       "      <td>4</td>\n",
       "      <td>104</td>\n",
       "      <td>43.680</td>\n",
       "      <td>459.680</td>\n",
       "      <td>Flagship store</td>\n",
       "      <td>Books</td>\n",
       "      <td>10</td>\n",
       "      <td>Non-Fiction</td>\n",
       "      <td>274935</td>\n",
       "      <td>09-09-1977</td>\n",
       "      <td>F</td>\n",
       "      <td>3.0</td>\n",
       "    </tr>\n",
       "    <tr>\n",
       "      <th>23052</th>\n",
       "      <td>83245680995</td>\n",
       "      <td>273723</td>\n",
       "      <td>26-01-2011</td>\n",
       "      <td>4</td>\n",
       "      <td>4</td>\n",
       "      <td>4</td>\n",
       "      <td>1477</td>\n",
       "      <td>620.340</td>\n",
       "      <td>6528.340</td>\n",
       "      <td>e-Shop</td>\n",
       "      <td>Bags</td>\n",
       "      <td>4</td>\n",
       "      <td>Women</td>\n",
       "      <td>273723</td>\n",
       "      <td>21-01-1984</td>\n",
       "      <td>F</td>\n",
       "      <td>4.0</td>\n",
       "    </tr>\n",
       "  </tbody>\n",
       "</table>\n",
       "</div>"
      ],
      "text/plain": [
       "       transaction_id  cust_id   tran_date  prod_subcat_code  prod_cat_code  \\\n",
       "23043     11090753771   270827    8/2/2011                 1              1   \n",
       "23044     85951181720   267166    8/2/2011                 5              3   \n",
       "23045     79685748610   272539    5/2/2011                 7              5   \n",
       "23046     23353379671   273036    4/2/2011                10              3   \n",
       "23047     12933894691   272706  31-01-2011                 1              4   \n",
       "23048     16293185603   274931  31-01-2011                 8              3   \n",
       "23049     70163958026   267902  30-01-2011                10              5   \n",
       "23050     20417144530   269556  29-01-2011                10              6   \n",
       "23051     58531412371   274935  29-01-2011                10              5   \n",
       "23052     83245680995   273723  26-01-2011                 4              4   \n",
       "\n",
       "       Qty  Rate      Tax  total_amt      Store_type          prod_cat  \\\n",
       "23043    3    74   23.310    245.310          e-Shop          Clothing   \n",
       "23044    3  1137  358.155   3769.155             MBR       Electronics   \n",
       "23045    2    94   19.740    207.740        TeleShop             Books   \n",
       "23046    3   209   65.835    692.835          e-Shop       Electronics   \n",
       "23047    5   361  189.525   1994.525             MBR              Bags   \n",
       "23048    3   137   43.155    454.155  Flagship store       Electronics   \n",
       "23049    4   404  169.680   1785.680          e-Shop             Books   \n",
       "23050    3   654  206.010   2168.010  Flagship store  Home and kitchen   \n",
       "23051    4   104   43.680    459.680  Flagship store             Books   \n",
       "23052    4  1477  620.340   6528.340          e-Shop              Bags   \n",
       "\n",
       "       prod_sub_cat_code          prod_subcat  customer_Id         DOB Gender  \\\n",
       "23043                  1                Women       270827  04-03-1970      F   \n",
       "23044                  5            Computers       267166  22-02-1970      F   \n",
       "23045                  7              Fiction       272539  23-05-1977      F   \n",
       "23046                 10      Audio and video       273036  09-11-1971      F   \n",
       "23047                  1                 Mens       272706  09-03-1974      M   \n",
       "23048                  8  Personal Appliances       274931  10-06-1972      M   \n",
       "23049                 10          Non-Fiction       267902  17-07-1975      M   \n",
       "23050                 10              Kitchen       269556  27-12-1972      M   \n",
       "23051                 10          Non-Fiction       274935  09-09-1977      F   \n",
       "23052                  4                Women       273723  21-01-1984      F   \n",
       "\n",
       "       city_code  \n",
       "23043       10.0  \n",
       "23044        4.0  \n",
       "23045        7.0  \n",
       "23046        2.0  \n",
       "23047        8.0  \n",
       "23048       10.0  \n",
       "23049        4.0  \n",
       "23050        5.0  \n",
       "23051        3.0  \n",
       "23052        4.0  "
      ]
     },
     "execution_count": 23,
     "metadata": {},
     "output_type": "execute_result"
    }
   ],
   "source": [
    "Customer_Final.tail(10)"
   ]
  },
  {
   "cell_type": "markdown",
   "id": "16bde3f8",
   "metadata": {},
   "source": [
    "# 2. c. “Five-number summary” for continuous variables (min, Q1, median, Q3 and max)"
   ]
  },
  {
   "cell_type": "code",
   "execution_count": 24,
   "id": "5180eaa2",
   "metadata": {},
   "outputs": [
    {
     "data": {
      "text/plain": [
       "count    23053.000000\n",
       "mean       636.369713\n",
       "std        622.363498\n",
       "min      -1499.000000\n",
       "25%        312.000000\n",
       "50%        710.000000\n",
       "75%       1109.000000\n",
       "max       1500.000000\n",
       "Name: Rate, dtype: float64"
      ]
     },
     "execution_count": 24,
     "metadata": {},
     "output_type": "execute_result"
    }
   ],
   "source": [
    "Customer_Final['Rate'].describe()"
   ]
  },
  {
   "cell_type": "code",
   "execution_count": 25,
   "id": "fa7cb3ee",
   "metadata": {
    "scrolled": true
   },
   "outputs": [
    {
     "data": {
      "text/plain": [
       "count    23053.000000\n",
       "mean         2.432395\n",
       "std          2.268406\n",
       "min         -5.000000\n",
       "25%          1.000000\n",
       "50%          3.000000\n",
       "75%          4.000000\n",
       "max          5.000000\n",
       "Name: Qty, dtype: float64"
      ]
     },
     "execution_count": 25,
     "metadata": {},
     "output_type": "execute_result"
    }
   ],
   "source": [
    "Customer_Final['Qty'].describe()"
   ]
  },
  {
   "cell_type": "code",
   "execution_count": 26,
   "id": "eaa97047",
   "metadata": {},
   "outputs": [
    {
     "data": {
      "text/plain": [
       "count    23053.000000\n",
       "mean      2107.308002\n",
       "std       2507.561264\n",
       "min      -8270.925000\n",
       "25%        762.450000\n",
       "50%       1754.740000\n",
       "75%       3569.150000\n",
       "max       8287.500000\n",
       "Name: total_amt, dtype: float64"
      ]
     },
     "execution_count": 26,
     "metadata": {},
     "output_type": "execute_result"
    }
   ],
   "source": [
    "Customer_Final['total_amt'].describe()"
   ]
  },
  {
   "cell_type": "markdown",
   "id": "f2df9234",
   "metadata": {},
   "source": [
    "d. Frequency tables for all the categorical variables."
   ]
  },
  {
   "cell_type": "code",
   "execution_count": 27,
   "id": "a4741522",
   "metadata": {},
   "outputs": [
    {
     "data": {
      "text/html": [
       "<div>\n",
       "<style scoped>\n",
       "    .dataframe tbody tr th:only-of-type {\n",
       "        vertical-align: middle;\n",
       "    }\n",
       "\n",
       "    .dataframe tbody tr th {\n",
       "        vertical-align: top;\n",
       "    }\n",
       "\n",
       "    .dataframe thead th {\n",
       "        text-align: right;\n",
       "    }\n",
       "</style>\n",
       "<table border=\"1\" class=\"dataframe\">\n",
       "  <thead>\n",
       "    <tr style=\"text-align: right;\">\n",
       "      <th>col_0</th>\n",
       "      <th>count</th>\n",
       "    </tr>\n",
       "    <tr>\n",
       "      <th>Store_type</th>\n",
       "      <th></th>\n",
       "    </tr>\n",
       "  </thead>\n",
       "  <tbody>\n",
       "    <tr>\n",
       "      <th>Flagship store</th>\n",
       "      <td>4577</td>\n",
       "    </tr>\n",
       "    <tr>\n",
       "      <th>MBR</th>\n",
       "      <td>4661</td>\n",
       "    </tr>\n",
       "    <tr>\n",
       "      <th>TeleShop</th>\n",
       "      <td>4504</td>\n",
       "    </tr>\n",
       "    <tr>\n",
       "      <th>e-Shop</th>\n",
       "      <td>9311</td>\n",
       "    </tr>\n",
       "  </tbody>\n",
       "</table>\n",
       "</div>"
      ],
      "text/plain": [
       "col_0           count\n",
       "Store_type           \n",
       "Flagship store   4577\n",
       "MBR              4661\n",
       "TeleShop         4504\n",
       "e-Shop           9311"
      ]
     },
     "execution_count": 27,
     "metadata": {},
     "output_type": "execute_result"
    }
   ],
   "source": [
    "pd.crosstab(index=Customer_Final[\"Store_type\"],columns=\"count\")"
   ]
  },
  {
   "cell_type": "code",
   "execution_count": 28,
   "id": "c685d4cd",
   "metadata": {},
   "outputs": [
    {
     "data": {
      "text/html": [
       "<div>\n",
       "<style scoped>\n",
       "    .dataframe tbody tr th:only-of-type {\n",
       "        vertical-align: middle;\n",
       "    }\n",
       "\n",
       "    .dataframe tbody tr th {\n",
       "        vertical-align: top;\n",
       "    }\n",
       "\n",
       "    .dataframe thead th {\n",
       "        text-align: right;\n",
       "    }\n",
       "</style>\n",
       "<table border=\"1\" class=\"dataframe\">\n",
       "  <thead>\n",
       "    <tr style=\"text-align: right;\">\n",
       "      <th>col_0</th>\n",
       "      <th>count</th>\n",
       "    </tr>\n",
       "    <tr>\n",
       "      <th>prod_cat</th>\n",
       "      <th></th>\n",
       "    </tr>\n",
       "  </thead>\n",
       "  <tbody>\n",
       "    <tr>\n",
       "      <th>Bags</th>\n",
       "      <td>1998</td>\n",
       "    </tr>\n",
       "    <tr>\n",
       "      <th>Books</th>\n",
       "      <td>6069</td>\n",
       "    </tr>\n",
       "    <tr>\n",
       "      <th>Clothing</th>\n",
       "      <td>2960</td>\n",
       "    </tr>\n",
       "    <tr>\n",
       "      <th>Electronics</th>\n",
       "      <td>4898</td>\n",
       "    </tr>\n",
       "    <tr>\n",
       "      <th>Footwear</th>\n",
       "      <td>2999</td>\n",
       "    </tr>\n",
       "    <tr>\n",
       "      <th>Home and kitchen</th>\n",
       "      <td>4129</td>\n",
       "    </tr>\n",
       "  </tbody>\n",
       "</table>\n",
       "</div>"
      ],
      "text/plain": [
       "col_0             count\n",
       "prod_cat               \n",
       "Bags               1998\n",
       "Books              6069\n",
       "Clothing           2960\n",
       "Electronics        4898\n",
       "Footwear           2999\n",
       "Home and kitchen   4129"
      ]
     },
     "execution_count": 28,
     "metadata": {},
     "output_type": "execute_result"
    }
   ],
   "source": [
    "pd.crosstab(index=Customer_Final[\"prod_cat\"],columns=\"count\")"
   ]
  },
  {
   "cell_type": "code",
   "execution_count": 29,
   "id": "62318d24",
   "metadata": {},
   "outputs": [
    {
     "data": {
      "text/html": [
       "<div>\n",
       "<style scoped>\n",
       "    .dataframe tbody tr th:only-of-type {\n",
       "        vertical-align: middle;\n",
       "    }\n",
       "\n",
       "    .dataframe tbody tr th {\n",
       "        vertical-align: top;\n",
       "    }\n",
       "\n",
       "    .dataframe thead th {\n",
       "        text-align: right;\n",
       "    }\n",
       "</style>\n",
       "<table border=\"1\" class=\"dataframe\">\n",
       "  <thead>\n",
       "    <tr style=\"text-align: right;\">\n",
       "      <th>col_0</th>\n",
       "      <th>count</th>\n",
       "    </tr>\n",
       "    <tr>\n",
       "      <th>prod_subcat</th>\n",
       "      <th></th>\n",
       "    </tr>\n",
       "  </thead>\n",
       "  <tbody>\n",
       "    <tr>\n",
       "      <th>Academic</th>\n",
       "      <td>967</td>\n",
       "    </tr>\n",
       "    <tr>\n",
       "      <th>Audio and video</th>\n",
       "      <td>952</td>\n",
       "    </tr>\n",
       "    <tr>\n",
       "      <th>Bath</th>\n",
       "      <td>1023</td>\n",
       "    </tr>\n",
       "    <tr>\n",
       "      <th>Cameras</th>\n",
       "      <td>985</td>\n",
       "    </tr>\n",
       "    <tr>\n",
       "      <th>Children</th>\n",
       "      <td>1035</td>\n",
       "    </tr>\n",
       "    <tr>\n",
       "      <th>Comics</th>\n",
       "      <td>1031</td>\n",
       "    </tr>\n",
       "    <tr>\n",
       "      <th>Computers</th>\n",
       "      <td>958</td>\n",
       "    </tr>\n",
       "    <tr>\n",
       "      <th>DIY</th>\n",
       "      <td>989</td>\n",
       "    </tr>\n",
       "    <tr>\n",
       "      <th>Fiction</th>\n",
       "      <td>1043</td>\n",
       "    </tr>\n",
       "    <tr>\n",
       "      <th>Furnishing</th>\n",
       "      <td>1007</td>\n",
       "    </tr>\n",
       "    <tr>\n",
       "      <th>Kids</th>\n",
       "      <td>1997</td>\n",
       "    </tr>\n",
       "    <tr>\n",
       "      <th>Kitchen</th>\n",
       "      <td>1037</td>\n",
       "    </tr>\n",
       "    <tr>\n",
       "      <th>Mens</th>\n",
       "      <td>2912</td>\n",
       "    </tr>\n",
       "    <tr>\n",
       "      <th>Mobiles</th>\n",
       "      <td>1031</td>\n",
       "    </tr>\n",
       "    <tr>\n",
       "      <th>Non-Fiction</th>\n",
       "      <td>1004</td>\n",
       "    </tr>\n",
       "    <tr>\n",
       "      <th>Personal Appliances</th>\n",
       "      <td>972</td>\n",
       "    </tr>\n",
       "    <tr>\n",
       "      <th>Tools</th>\n",
       "      <td>1062</td>\n",
       "    </tr>\n",
       "    <tr>\n",
       "      <th>Women</th>\n",
       "      <td>3048</td>\n",
       "    </tr>\n",
       "  </tbody>\n",
       "</table>\n",
       "</div>"
      ],
      "text/plain": [
       "col_0                count\n",
       "prod_subcat               \n",
       "Academic               967\n",
       "Audio and video        952\n",
       "Bath                  1023\n",
       "Cameras                985\n",
       "Children              1035\n",
       "Comics                1031\n",
       "Computers              958\n",
       "DIY                    989\n",
       "Fiction               1043\n",
       "Furnishing            1007\n",
       "Kids                  1997\n",
       "Kitchen               1037\n",
       "Mens                  2912\n",
       "Mobiles               1031\n",
       "Non-Fiction           1004\n",
       "Personal Appliances    972\n",
       "Tools                 1062\n",
       "Women                 3048"
      ]
     },
     "execution_count": 29,
     "metadata": {},
     "output_type": "execute_result"
    }
   ],
   "source": [
    "pd.crosstab(index=Customer_Final[\"prod_subcat\"],columns=\"count\")"
   ]
  },
  {
   "cell_type": "markdown",
   "id": "9d13b917",
   "metadata": {},
   "source": [
    "# 3. Generate histograms for all continuous variables and frequency bars for categorical variables.\n"
   ]
  },
  {
   "cell_type": "code",
   "execution_count": 36,
   "id": "2245f8bd",
   "metadata": {},
   "outputs": [
    {
     "data": {
      "image/png": "[encoded data removed]",
      "text/plain": [
       "<Figure size 720x360 with 1 Axes>"
      ]
     },
     "metadata": {
      "needs_background": "light"
     },
     "output_type": "display_data"
    }
   ],
   "source": [
    "fig, axis = plt.subplots(figsize =(10, 5))\n",
    "axis.hist(Customer_Final['Rate'], bins = [-1500,-1000,-500,0,500,1000,1500])\n",
    "plt.xlabel(\"Range of rates\")\n",
    "plt.ylabel(\"count of the Rates\")\n",
    "plt.title(\"histogram of the total amount\")\n",
    "plt.show()"
   ]
  },
  {
   "cell_type": "code",
   "execution_count": 32,
   "id": "8540b71b",
   "metadata": {},
   "outputs": [
    {
     "data": {
      "text/plain": [
       "<AxesSubplot:ylabel='Frequency'>"
      ]
     },
     "execution_count": 32,
     "metadata": {},
     "output_type": "execute_result"
    },
    {
     "data": {
      "image/png": "[encoded data removed]",
      "text/plain": [
       "<Figure size 432x288 with 1 Axes>"
      ]
     },
     "metadata": {
      "needs_background": "light"
     },
     "output_type": "display_data"
    }
   ],
   "source": [
    "Customer_Final.Rate.plot(kind = 'hist')"
   ]
  },
  {
   "cell_type": "code",
   "execution_count": 22,
   "id": "06bf075e",
   "metadata": {},
   "outputs": [
    {
     "data": {
      "image/png": "[encoded data removed]",
      "text/plain": [
       "<Figure size 720x360 with 1 Axes>"
      ]
     },
     "metadata": {
      "needs_background": "light"
     },
     "output_type": "display_data"
    }
   ],
   "source": [
    "fig, axis = plt.subplots(figsize =(10, 5))\n",
    "axis.hist(Customer_Final['Qty'], bins = [-5,-3,-1,0,1,3,5])\n",
    "plt.xlabel(\"range of Qty\")\n",
    "plt.ylabel(\"count of the Qty\")\n",
    "plt.title(\"histogram of the Qty\")\n",
    "plt.show()"
   ]
  },
  {
   "cell_type": "code",
   "execution_count": 23,
   "id": "8e712468",
   "metadata": {},
   "outputs": [
    {
     "data": {
      "image/png": "[encoded data removed]",
      "text/plain": [
       "<Figure size 720x360 with 1 Axes>"
      ]
     },
     "metadata": {
      "needs_background": "light"
     },
     "output_type": "display_data"
    }
   ],
   "source": [
    "fig, axis = plt.subplots(figsize =(10, 5))\n",
    "axis.hist(Customer_Final['total_amt'], bins = [-9000,-6000,-3000,0,3000,6000,9000])\n",
    "plt.xlabel(\"Range of total amount\")\n",
    "plt.ylabel(\"count of the amount\")\n",
    "plt.title(\"histogram of the total amount\")\n",
    "plt.show()"
   ]
  },
  {
   "cell_type": "code",
   "execution_count": 24,
   "id": "1c38263a",
   "metadata": {},
   "outputs": [
    {
     "data": {
      "image/png": "[encoded data removed]",
      "text/plain": [
       "<Figure size 720x720 with 1 Axes>"
      ]
     },
     "metadata": {
      "needs_background": "light"
     },
     "output_type": "display_data"
    }
   ],
   "source": [
    "fig, axis = plt.subplots(figsize =(10, 10))\n",
    "plt.hist(Customer_Final[\"Store_type\"])\n",
    "plt.title(\"frequency bar of store type\")\n",
    "plt.xlabel(\"Store Type\")\n",
    "plt.ylabel(\"Frequency\")\n",
    "\n",
    "plt.show()"
   ]
  },
  {
   "cell_type": "code",
   "execution_count": 25,
   "id": "17c087ae",
   "metadata": {
    "scrolled": false
   },
   "outputs": [
    {
     "data": {
      "image/png": "[encoded data removed]",
      "text/plain": [
       "<Figure size 1800x720 with 1 Axes>"
      ]
     },
     "metadata": {
      "needs_background": "light"
     },
     "output_type": "display_data"
    }
   ],
   "source": [
    "fig,axis=plt.subplots(figsize=(25,10))\n",
    "plt.hist(Customer_Final[\"prod_subcat\"])\n",
    "plt.title(\"frequency bar of prod_subcat\")\n",
    "plt.xlabel(\"product sub categories\")\n",
    "plt.ylabel(\"Frequency\")\n",
    "plt.show()"
   ]
  },
  {
   "cell_type": "code",
   "execution_count": 26,
   "id": "a9183eea",
   "metadata": {
    "scrolled": false
   },
   "outputs": [
    {
     "data": {
      "image/png": "[encoded data removed]",
      "text/plain": [
       "<Figure size 720x720 with 1 Axes>"
      ]
     },
     "metadata": {
      "needs_background": "light"
     },
     "output_type": "display_data"
    }
   ],
   "source": [
    "fig,axis=plt.subplots(figsize=(10,10))\n",
    "plt.hist(Customer_Final[\"prod_cat\"])\n",
    "plt.title(\"frequency bar of prod_cat\")\n",
    "plt.xlabel(\"product categories\")\n",
    "plt.ylabel(\"Frequency\")\n",
    "plt.show()"
   ]
  },
  {
   "cell_type": "markdown",
   "id": "a608222d",
   "metadata": {},
   "source": [
    "# 4. Calculate the following information using the merged dataset :\n",
    "# a. Time period of the available transaction data"
   ]
  },
  {
   "cell_type": "code",
   "execution_count": 27,
   "id": "2b31d313",
   "metadata": {},
   "outputs": [
    {
     "data": {
      "text/plain": [
       "('1/1/2012', '9/9/2013')"
      ]
     },
     "execution_count": 27,
     "metadata": {},
     "output_type": "execute_result"
    }
   ],
   "source": [
    "Customer_Final[\"tran_date\"].min(),Customer_Final[\"tran_date\"].max()"
   ]
  },
  {
   "cell_type": "markdown",
   "id": "826f9c60",
   "metadata": {},
   "source": [
    "# b. Count of transactions where the total amount of transaction was negative\n"
   ]
  },
  {
   "cell_type": "code",
   "execution_count": 28,
   "id": "9afb659e",
   "metadata": {},
   "outputs": [
    {
     "name": "stdout",
     "output_type": "stream",
     "text": [
      "2177\n"
     ]
    }
   ],
   "source": [
    "count=0\n",
    "for i in range(len(Customer_Final[\"total_amt\"])): \n",
    "    if  Customer_Final[\"total_amt\"][i] < 0: \n",
    "        count=count+1\n",
    "print(count)"
   ]
  },
  {
   "cell_type": "code",
   "execution_count": 29,
   "id": "1626f48a",
   "metadata": {},
   "outputs": [
    {
     "data": {
      "text/plain": [
       "Positive    20876\n",
       "Negative     2177\n",
       "Name: flag, dtype: int64"
      ]
     },
     "execution_count": 29,
     "metadata": {},
     "output_type": "execute_result"
    }
   ],
   "source": [
    "\n",
    "Customer_Final['flag']=np.where(Customer_Final.total_amt < 0, \"Negative\" , \"Positive\")\n",
    "Customer_Final.flag.value_counts()"
   ]
  },
  {
   "cell_type": "markdown",
   "id": "7475c93c",
   "metadata": {},
   "source": [
    "# 5. Analyze which product categories are more popular among females vs male customers.\n"
   ]
  },
  {
   "cell_type": "code",
   "execution_count": 62,
   "id": "8e102fb7",
   "metadata": {},
   "outputs": [
    {
     "data": {
      "text/html": [
       "<div>\n",
       "<style scoped>\n",
       "    .dataframe tbody tr th:only-of-type {\n",
       "        vertical-align: middle;\n",
       "    }\n",
       "\n",
       "    .dataframe tbody tr th {\n",
       "        vertical-align: top;\n",
       "    }\n",
       "\n",
       "    .dataframe thead th {\n",
       "        text-align: right;\n",
       "    }\n",
       "</style>\n",
       "<table border=\"1\" class=\"dataframe\">\n",
       "  <thead>\n",
       "    <tr style=\"text-align: right;\">\n",
       "      <th>prod_cat</th>\n",
       "      <th>Bags</th>\n",
       "      <th>Clothing</th>\n",
       "      <th>Footwear</th>\n",
       "    </tr>\n",
       "    <tr>\n",
       "      <th>prod_subcat</th>\n",
       "      <th></th>\n",
       "      <th></th>\n",
       "      <th></th>\n",
       "    </tr>\n",
       "  </thead>\n",
       "  <tbody>\n",
       "    <tr>\n",
       "      <th>Mens</th>\n",
       "      <td>1003</td>\n",
       "      <td>967</td>\n",
       "      <td>942</td>\n",
       "    </tr>\n",
       "    <tr>\n",
       "      <th>Women</th>\n",
       "      <td>995</td>\n",
       "      <td>1005</td>\n",
       "      <td>1048</td>\n",
       "    </tr>\n",
       "  </tbody>\n",
       "</table>\n",
       "</div>"
      ],
      "text/plain": [
       "prod_cat     Bags  Clothing  Footwear\n",
       "prod_subcat                          \n",
       "Mens         1003       967       942\n",
       "Women         995      1005      1048"
      ]
     },
     "execution_count": 62,
     "metadata": {},
     "output_type": "execute_result"
    }
   ],
   "source": [
    "women_men=Customer_Final[((Customer_Final.prod_subcat == \"Women\") |  (Customer_Final.prod_subcat ==\"Mens\"))]\n",
    "women_men.pivot_table(index='prod_subcat',columns='prod_cat',values = 'total_amt',aggfunc='count')\n"
   ]
  },
  {
   "cell_type": "markdown",
   "id": "6cbb065f",
   "metadata": {},
   "source": [
    "# 6. Which City code has the maximum customers and what was the percentage of customers from that city?\n"
   ]
  },
  {
   "cell_type": "code",
   "execution_count": 98,
   "id": "6bb15223",
   "metadata": {},
   "outputs": [
    {
     "name": "stdout",
     "output_type": "stream",
     "text": [
      "   city_code  total_amt       %age\n",
      "3        4.0       2422  10.509872\n",
      "2        3.0       2411  10.462139\n",
      "4        5.0       2360  10.240833\n",
      "6        7.0       2356  10.223476\n",
      "9       10.0       2333  10.123671\n",
      "7        8.0       2330  10.110653\n",
      "1        2.0       2270   9.850293\n",
      "0        1.0       2258   9.798221\n",
      "8        9.0       2178   9.451074\n",
      "5        6.0       2127   9.229768\n"
     ]
    }
   ],
   "source": [
    "table =Customer_Final.pivot_table(index='city_code',values='total_amt',aggfunc=('count')).reset_index()\n",
    "table['%age']=table.total_amt/table.total_amt.sum()*100\n",
    "print( table.sort_values(by=['%age'],ascending=False))"
   ]
  },
  {
   "cell_type": "markdown",
   "id": "0b94275c",
   "metadata": {},
   "source": [
    "# 7. Which store type sells the maximum products by value and by quantity?\n"
   ]
  },
  {
   "cell_type": "code",
   "execution_count": 130,
   "id": "172264c9",
   "metadata": {
    "scrolled": true
   },
   "outputs": [
    {
     "data": {
      "text/html": [
       "<div>\n",
       "<style scoped>\n",
       "    .dataframe tbody tr th:only-of-type {\n",
       "        vertical-align: middle;\n",
       "    }\n",
       "\n",
       "    .dataframe tbody tr th {\n",
       "        vertical-align: top;\n",
       "    }\n",
       "\n",
       "    .dataframe thead tr th {\n",
       "        text-align: left;\n",
       "    }\n",
       "</style>\n",
       "<table border=\"1\" class=\"dataframe\">\n",
       "  <thead>\n",
       "    <tr>\n",
       "      <th></th>\n",
       "      <th>Store_type</th>\n",
       "      <th>count</th>\n",
       "      <th>sum</th>\n",
       "    </tr>\n",
       "    <tr>\n",
       "      <th></th>\n",
       "      <th></th>\n",
       "      <th>total_amt</th>\n",
       "      <th>total_amt</th>\n",
       "    </tr>\n",
       "  </thead>\n",
       "  <tbody>\n",
       "    <tr>\n",
       "      <th>0</th>\n",
       "      <td>Flagship store</td>\n",
       "      <td>4577</td>\n",
       "      <td>9.715688e+06</td>\n",
       "    </tr>\n",
       "    <tr>\n",
       "      <th>1</th>\n",
       "      <td>MBR</td>\n",
       "      <td>4661</td>\n",
       "      <td>9.674486e+06</td>\n",
       "    </tr>\n",
       "    <tr>\n",
       "      <th>2</th>\n",
       "      <td>TeleShop</td>\n",
       "      <td>4504</td>\n",
       "      <td>9.364781e+06</td>\n",
       "    </tr>\n",
       "    <tr>\n",
       "      <th>3</th>\n",
       "      <td>e-Shop</td>\n",
       "      <td>9311</td>\n",
       "      <td>1.982482e+07</td>\n",
       "    </tr>\n",
       "  </tbody>\n",
       "</table>\n",
       "</div>"
      ],
      "text/plain": [
       "       Store_type     count           sum\n",
       "                  total_amt     total_amt\n",
       "0  Flagship store      4577  9.715688e+06\n",
       "1             MBR      4661  9.674486e+06\n",
       "2        TeleShop      4504  9.364781e+06\n",
       "3          e-Shop      9311  1.982482e+07"
      ]
     },
     "execution_count": 130,
     "metadata": {},
     "output_type": "execute_result"
    }
   ],
   "source": [
    "#method:1\n",
    "Customer_Final.pivot_table(index='Store_type',values='total_amt',aggfunc=(['count','sum'])).reset_index()\n"
   ]
  },
  {
   "cell_type": "code",
   "execution_count": 143,
   "id": "daa6c8c8",
   "metadata": {},
   "outputs": [
    {
     "name": "stdout",
     "output_type": "stream",
     "text": [
      "       Store_type   Total_Value  Total_Quantity\n",
      "3          e-Shop  1.982482e+07            9311\n",
      "1             MBR  9.674486e+06            4661\n",
      "0  Flagship store  9.715688e+06            4577\n",
      "2        TeleShop  9.364781e+06            4504\n"
     ]
    }
   ],
   "source": [
    "#method:2\n",
    "table1 = Customer_Final.pivot_table(index='Store_type',values='total_amt',aggfunc=('sum')).reset_index()\n",
    "table2 = Customer_Final.pivot_table(index='Store_type',values='total_amt',aggfunc=('count')).reset_index()\n",
    "Final_table=pd.merge(table1,table2,left_on='Store_type',right_on='Store_type')\n",
    "Final_table.rename(columns = {'total_amt_x':'Total_Value','total_amt_y':'Total_Quantity'},inplace = True)\n",
    "print( Final_table.sort_values(by=['Total_Quantity'],ascending=False))\n"
   ]
  },
  {
   "cell_type": "markdown",
   "id": "7f8a63c6",
   "metadata": {},
   "source": [
    "# 8. What was the total amount earned from the \"Electronics\" and \"Clothing\" categories from Flagship Stores?\n"
   ]
  },
  {
   "cell_type": "code",
   "execution_count": 170,
   "id": "7b7987c3",
   "metadata": {},
   "outputs": [
    {
     "name": "stdout",
     "output_type": "stream",
     "text": [
      "total amount earned from the Electronics and Clothing categories from Flagship Stores\n",
      "      prod_cat   total_amt\n",
      "0     Clothing  6251137.49\n",
      "1  Electronics  2215136.04\n"
     ]
    }
   ],
   "source": [
    "Flagship_Stores=Customer_Final[((Customer_Final.Store_type == \"Flagship store\") & (Customer_Final.prod_cat==\"Electronics\") | (Customer_Final.prod_cat==\"Clothing\"))]\n",
    "Flagship_Stores1=Flagship_Stores.pivot_table(index='prod_cat',values='total_amt',aggfunc=('sum')).reset_index()\n",
    "print(\"total amount earned from the Electronics and Clothing categories from Flagship Stores\")\n",
    "print(Flagship_Stores1)"
   ]
  },
  {
   "cell_type": "markdown",
   "id": "46d9ed3c",
   "metadata": {},
   "source": [
    "# 9. What was the total amount earned from \"Male\" customers under the \"Electronics\" category?"
   ]
  },
  {
   "cell_type": "code",
   "execution_count": 183,
   "id": "4febb1a7",
   "metadata": {},
   "outputs": [
    {
     "name": "stdout",
     "output_type": "stream",
     "text": [
      "total amount earned from Male customers under the Electronics category:- \n",
      "      prod_cat    total_amt\n",
      "0  Electronics  5703109.425\n"
     ]
    }
   ],
   "source": [
    "mens_ele=Customer_Final[((Customer_Final.Gender == \"M\") & (Customer_Final.prod_cat==\"Electronics\"))]\n",
    "mens_ele1=mens_ele.pivot_table(index='prod_cat',values='total_amt',aggfunc=('sum')).reset_index()\n",
    "print(\"total amount earned from Male customers under the Electronics category:- \")\n",
    "print(mens_ele1)"
   ]
  },
  {
   "cell_type": "code",
   "execution_count": 188,
   "id": "45990d39",
   "metadata": {},
   "outputs": [],
   "source": [
    "unique=Customer_Final.drop_duplicates(subset =\"transaction_id\")\n",
    "mens_ele=Customer_Final[((Customer_Final.Gender == \"M\")"
   ]
  },
  {
   "cell_type": "markdown",
   "id": "4a7e4850",
   "metadata": {},
   "source": [
    "# 10. How many customers have more than 10 unique transactions, after removing all transactions which have any negative amounts?"
   ]
  },
  {
   "cell_type": "code",
   "execution_count": 209,
   "id": "a0638114",
   "metadata": {},
   "outputs": [
    {
     "data": {
      "text/plain": [
       "Positive    18819\n",
       "Negative     2059\n",
       "Name: flag, dtype: int64"
      ]
     },
     "execution_count": 209,
     "metadata": {},
     "output_type": "execute_result"
    }
   ],
   "source": [
    "#method:- 1\n",
    "unique=Customer_Final.drop_duplicates(subset =\"transaction_id\")\n",
    "unique.flag.value_counts()"
   ]
  },
  {
   "cell_type": "code",
   "execution_count": 192,
   "id": "e777133f",
   "metadata": {},
   "outputs": [
    {
     "data": {
      "text/plain": [
       "Negative    2059\n",
       "Name: flag, dtype: int64"
      ]
     },
     "execution_count": 192,
     "metadata": {},
     "output_type": "execute_result"
    }
   ],
   "source": [
    "#method:- 2\n",
    "unique=Customer_Final.drop_duplicates(subset =\"transaction_id\")\n",
    "unique1=unique[unique.flag == \"Negative\"]\n",
    "unique1.flag.value_counts()"
   ]
  },
  {
   "cell_type": "code",
   "execution_count": 200,
   "id": "7962f9f8",
   "metadata": {},
   "outputs": [
    {
     "name": "stdout",
     "output_type": "stream",
     "text": [
      "  negative type  total_amt\n",
      "0      Negative       2059\n"
     ]
    }
   ],
   "source": [
    "#method:- 3\n",
    "unique=Customer_Final.drop_duplicates(subset =\"transaction_id\")\n",
    "unique1=unique[unique.flag == \"Negative\"]\n",
    "unique2 = unique1.pivot_table(index='flag',values='total_amt',aggfunc=('count')).reset_index()\n",
    "unique2.rename(columns = {'flag':'negative type'},inplace = True)\n",
    "print(unique2)"
   ]
  },
  {
   "cell_type": "markdown",
   "id": "e4e38dff",
   "metadata": {},
   "source": [
    "# 11. For all customers aged between 25 - 35, find out:\n"
   ]
  },
  {
   "cell_type": "code",
   "execution_count": 251,
   "id": "f058b4a0",
   "metadata": {},
   "outputs": [],
   "source": [
    "#age_Calculation and new column age geberaton :- \n",
    "Customer_Final[\"age\"]=pd.Timestamp.now().year-pd.to_datetime(Customer_Final['DOB']).dt.year"
   ]
  },
  {
   "cell_type": "markdown",
   "id": "2658da9d",
   "metadata": {},
   "source": [
    "# a. What was the total amount spent for “Electronics” and “Books” product categories?"
   ]
  },
  {
   "cell_type": "code",
   "execution_count": 282,
   "id": "06599a4d",
   "metadata": {},
   "outputs": [
    {
     "data": {
      "text/html": [
       "<div>\n",
       "<style scoped>\n",
       "    .dataframe tbody tr th:only-of-type {\n",
       "        vertical-align: middle;\n",
       "    }\n",
       "\n",
       "    .dataframe tbody tr th {\n",
       "        vertical-align: top;\n",
       "    }\n",
       "\n",
       "    .dataframe thead th {\n",
       "        text-align: right;\n",
       "    }\n",
       "</style>\n",
       "<table border=\"1\" class=\"dataframe\">\n",
       "  <thead>\n",
       "    <tr style=\"text-align: right;\">\n",
       "      <th></th>\n",
       "      <th>prod_cat</th>\n",
       "      <th>total_amt</th>\n",
       "    </tr>\n",
       "  </thead>\n",
       "  <tbody>\n",
       "    <tr>\n",
       "      <th>0</th>\n",
       "      <td>Books</td>\n",
       "      <td>12822694.04</td>\n",
       "    </tr>\n",
       "    <tr>\n",
       "      <th>1</th>\n",
       "      <td>Electronics</td>\n",
       "      <td>2272147.41</td>\n",
       "    </tr>\n",
       "  </tbody>\n",
       "</table>\n",
       "</div>"
      ],
      "text/plain": [
       "      prod_cat    total_amt\n",
       "0        Books  12822694.04\n",
       "1  Electronics   2272147.41"
      ]
     },
     "execution_count": 282,
     "metadata": {},
     "output_type": "execute_result"
    }
   ],
   "source": [
    "book_ele=Customer_Final[((Customer_Final.age>25)&(Customer_Final.age<35) & (Customer_Final.prod_cat==\"Electronics\") | (Customer_Final.prod_cat==\"Books\"))]\n",
    "book_ele.pivot_table(index=\"prod_cat\",values=\"total_amt\",aggfunc=\"sum\").reset_index()"
   ]
  },
  {
   "cell_type": "markdown",
   "id": "c3aaa5ef",
   "metadata": {},
   "source": [
    "# b. What was the total amount spent by these customers between 1st Jan, 2014 to 1st Mar, 2014?\n"
   ]
  },
  {
   "cell_type": "code",
   "execution_count": 367,
   "id": "45857a56",
   "metadata": {},
   "outputs": [],
   "source": [
    "#date conversion\n",
    "d1 = '01-01-2014'\n",
    "d2 = '01-03-2014'\n",
    "start_date = pd.to_datetime(d3, format = '%d-%m-%Y')\n",
    "end_date = pd.to_datetime(d4, format = '%d-%m-%Y')\n"
   ]
  },
  {
   "cell_type": "code",
   "execution_count": 368,
   "id": "c358d37a",
   "metadata": {},
   "outputs": [
    {
     "data": {
      "text/html": [
       "<div>\n",
       "<style scoped>\n",
       "    .dataframe tbody tr th:only-of-type {\n",
       "        vertical-align: middle;\n",
       "    }\n",
       "\n",
       "    .dataframe tbody tr th {\n",
       "        vertical-align: top;\n",
       "    }\n",
       "\n",
       "    .dataframe thead th {\n",
       "        text-align: right;\n",
       "    }\n",
       "</style>\n",
       "<table border=\"1\" class=\"dataframe\">\n",
       "  <thead>\n",
       "    <tr style=\"text-align: right;\">\n",
       "      <th></th>\n",
       "      <th>age</th>\n",
       "      <th>total_amt</th>\n",
       "    </tr>\n",
       "  </thead>\n",
       "  <tbody>\n",
       "    <tr>\n",
       "      <th>0</th>\n",
       "      <td>30</td>\n",
       "      <td>25077.975</td>\n",
       "    </tr>\n",
       "    <tr>\n",
       "      <th>1</th>\n",
       "      <td>31</td>\n",
       "      <td>61787.180</td>\n",
       "    </tr>\n",
       "    <tr>\n",
       "      <th>2</th>\n",
       "      <td>32</td>\n",
       "      <td>20733.115</td>\n",
       "    </tr>\n",
       "    <tr>\n",
       "      <th>3</th>\n",
       "      <td>33</td>\n",
       "      <td>23038.145</td>\n",
       "    </tr>\n",
       "    <tr>\n",
       "      <th>4</th>\n",
       "      <td>34</td>\n",
       "      <td>38139.075</td>\n",
       "    </tr>\n",
       "  </tbody>\n",
       "</table>\n",
       "</div>"
      ],
      "text/plain": [
       "   age  total_amt\n",
       "0   30  25077.975\n",
       "1   31  61787.180\n",
       "2   32  20733.115\n",
       "3   33  23038.145\n",
       "4   34  38139.075"
      ]
     },
     "execution_count": 368,
     "metadata": {},
     "output_type": "execute_result"
    }
   ],
   "source": [
    "book_ele=Customer_Final[((Customer_Final.age>25)&(Customer_Final.age<35) & (pd.to_datetime(Customer_Final.tran_date)>start_date)& (pd.to_datetime(Customer_Final.tran_date)>end_date))]\n",
    "book_ele.pivot_table(index=\"age\",values=\"total_amt\",aggfunc=\"sum\").reset_index()"
   ]
  },
  {
   "cell_type": "code",
   "execution_count": null,
   "id": "89f2501c",
   "metadata": {},
   "outputs": [],
   "source": []
  }
 ],
 "metadata": {
  "kernelspec": {
   "display_name": "Python 3 (ipykernel)",
   "language": "python",
   "name": "python3"
  },
  "language_info": {
   "codemirror_mode": {
    "name": "ipython",
    "version": 3
   },
   "file_extension": ".py",
   "mimetype": "text/x-python",
   "name": "python",
   "nbconvert_exporter": "python",
   "pygments_lexer": "ipython3",
   "version": "3.9.7"
  }
 },
 "nbformat": 4,
 "nbformat_minor": 5
}
